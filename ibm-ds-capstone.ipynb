{
    "cells": [
        {
            "cell_type": "markdown",
            "metadata": {
                "collapsed": true
            },
            "source": "# University Campus Venue Analysis"
        },
        {
            "cell_type": "markdown",
            "metadata": {},
            "source": "## Week 1"
        },
        {
            "cell_type": "markdown",
            "metadata": {},
            "source": "### Problem description"
        },
        {
            "cell_type": "markdown",
            "metadata": {},
            "source": "This Capstone project will investigate the venues close to some university campuses, such as the MIT and Harvard campus in Cambridge, MA, the Columbia campus in Manhattan, NY, the NTNU campus in Trondheim, NO and the EPFL campus in Lausanne, CH. \n\nThe universities are different in size and academic scope, and this should be reflected in the analysis. Although cultural differences may also influence the venues nearby campuses, this will be excluded from the analysis, under the assumption that all campuses have a diverse, international student body.\n\nThe goal of the project is to identify what universities have similar venues and cluster them in qualitatively reasonable clusters."
        },
        {
            "cell_type": "markdown",
            "metadata": {},
            "source": "### Data description"
        },
        {
            "cell_type": "markdown",
            "metadata": {},
            "source": "The required data will be coordinates for the different campuses, which can be found manually on Google Maps, the venues nearby the cmapuses, found using the Foursquare API, the type of university, found using Wikipedia, and the size of the university, also found using Wikipedia. Additional universities, other than the ones mentioned above, may be included for a even more thorough analysis of university campuses."
        },
        {
            "cell_type": "code",
            "execution_count": 1,
            "metadata": {},
            "outputs": [],
            "source": "import pandas as pd\nimport numpy as np"
        },
        {
            "cell_type": "code",
            "execution_count": 2,
            "metadata": {},
            "outputs": [
                {
                    "name": "stdout",
                    "output_type": "stream",
                    "text": "Hello Capstone project course!\n"
                }
            ],
            "source": "print('Hello Capstone project course!')"
        },
        {
            "cell_type": "code",
            "execution_count": null,
            "metadata": {},
            "outputs": [],
            "source": ""
        }
    ],
    "metadata": {
        "kernelspec": {
            "display_name": "Python 3.7",
            "language": "python",
            "name": "python3"
        },
        "language_info": {
            "codemirror_mode": {
                "name": "ipython",
                "version": 3
            },
            "file_extension": ".py",
            "mimetype": "text/x-python",
            "name": "python",
            "nbconvert_exporter": "python",
            "pygments_lexer": "ipython3",
            "version": "3.7.9"
        }
    },
    "nbformat": 4,
    "nbformat_minor": 1
}